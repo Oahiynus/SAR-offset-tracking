{
 "cells": [
  {
   "cell_type": "code",
   "execution_count": null,
   "metadata": {},
   "outputs": [],
   "source": [
    "import sys\n",
    "import os\n",
    "\n",
    "# 添加 SNAP 的 snappy 模块路径\n",
    "snappy_path = \"E:/anaconda3/envs/snap_env/Lib/snappy\"\n",
    "if snappy_path not in sys.path:\n",
    "    sys.path.append(snappy_path)\n",
    "\n",
    "# 检查路径是否正确\n",
    "print(\"SNAPPY Path:\", snappy_path)"
   ]
  },
  {
   "cell_type": "markdown",
   "metadata": {},
   "source": [
    "## 1. 导入模块和设置路径"
   ]
  },
  {
   "cell_type": "code",
   "execution_count": null,
   "metadata": {},
   "outputs": [],
   "source": [
    "from snappy import ProductIO, GPF\n",
    "from snappy import HashMap\n",
    "import os\n",
    "\n",
    "# 设置输入和输出路径\n",
    "# 定义必要的文件路径\n",
    "input_file_1 = \"F:/data/MSR/data/original/S1A_IW_GRDH_1SDV_20181003T112511_20181003T112536_023971_029E46_1361.zip\"  # 第一时间段的GRD产品路径\n",
    "input_file_2 = \"F:/data/MSR/data/original/S1A_IW_GRDH_1SDV_20181015T112511_20181015T112536_024146_02A3FF_5D3E.zip\"  # 第二时间段的GRD产品路径\n",
    "output_dir = \"F:/data/MSR/data/output_code_4\"  # 输出文件夹路径\n",
    "final_output_file = os.path.join(output_dir, \"F:/data/MSR/data/output_code_4/landslide_velocity_map.dim\")  # 最终结果路径\n",
    "\n",
    "# 确保输出目录存在\n",
    "if not os.path.exists(output_dir):\n",
    "    os.makedirs(output_dir)\n",
    "print(\"输出目录:\", output_dir)"
   ]
  },
  {
   "cell_type": "markdown",
   "metadata": {},
   "source": [
    "## 2. 加载输入数据"
   ]
  },
  {
   "cell_type": "code",
   "execution_count": null,
   "metadata": {},
   "outputs": [],
   "source": [
    "# 读取输入数据\n",
    "product1 = ProductIO.readProduct(input_file_1)\n",
    "product2 = ProductIO.readProduct(input_file_2)\n",
    "\n",
    "print(\"输入数据已加载:\")\n",
    "print(\"Product 1:\", input_file_1)\n",
    "print(\"Product 2:\", input_file_2)"
   ]
  },
  {
   "cell_type": "markdown",
   "metadata": {},
   "source": [
    "## 3. 应用轨道文件"
   ]
  },
  {
   "cell_type": "code",
   "execution_count": null,
   "metadata": {},
   "outputs": [],
   "source": [
    "def apply_orbit_file(product, output_name):\n",
    "    params = HashMap()\n",
    "    params.put(\"Apply-Orbit-File\", True)\n",
    "    result = GPF.createProduct(\"Apply-Orbit-File\", params, product)\n",
    "    output_path = os.path.join(output_dir, output_name)\n",
    "    ProductIO.writeProduct(result, output_path, \"BEAM-DIMAP\")\n",
    "    print(f\"轨道文件应用完成: {output_path}\")\n",
    "    return result\n",
    "\n",
    "product1_orbit = apply_orbit_file(product1, \"S1A_GRDH_20181003_Orb.dim\")\n",
    "product2_orbit = apply_orbit_file(product2, \"S1A_GRDH_20181015_Orb.dim\")"
   ]
  },
  {
   "cell_type": "markdown",
   "metadata": {},
   "source": [
    "## 4. 图像配准"
   ]
  },
  {
   "cell_type": "code",
   "execution_count": null,
   "metadata": {},
   "outputs": [],
   "source": [
    "def dem_assisted_coregistration_with_xcorr(master, slave, output_name):\n",
    "    \"\"\"\n",
    "    使用 DEM-Assisted Coregistration with XCorr 进行图像配准，结合地形校正功能。\n",
    "    \"\"\"\n",
    "    params = HashMap()\n",
    "    params.put(\"demName\", \"SRTM 3Sec\")  # 使用 SRTM 3Sec\n",
    "    params.put(\"resamplingType\", \"BILINEAR_INTERPOLATION\")  # 重采样方法\n",
    "    params.put(\"maskOutAreaWithoutElevation\", True)  # 遮蔽无DEM数据区域\n",
    "    params.put(\"xcorr\", True)  # 启用交叉相关\n",
    "    result = GPF.createProduct(\"DEM-Assisted-Coregistration\", params, [slave, master])\n",
    "    output_path = os.path.join(output_dir, output_name)\n",
    "    ProductIO.writeProduct(result, output_path, \"BEAM-DIMAP\")\n",
    "    print(f\"DEM辅助配准完成（使用 XCorr）: {output_path}\")\n",
    "    return result\n",
    "\n",
    "coregistered_product = dem_assisted_coregistration_with_xcorr(\n",
    "    product1_orbit, product2_orbit, \"S1A_GRDH_Orb_Stack.dim\"\n",
    ")\n"
   ]
  },
  {
   "cell_type": "markdown",
   "metadata": {},
   "source": [
    "## 5.创建子集"
   ]
  },
  {
   "cell_type": "code",
   "execution_count": null,
   "metadata": {},
   "outputs": [],
   "source": [
    "def create_subset(product, region, output_name):\n",
    "    \"\"\"\n",
    "    创建影像的子集，确保保留所有波段和必要的元数据。\n",
    "    \"\"\"\n",
    "    params = HashMap()\n",
    "    params.put(\"geoRegion\", region)  # 设置兴趣区域 (WKT 格式)\n",
    "    params.put(\"copyMetadata\", True)  # 确保保留所有元数据和波段\n",
    "    \n",
    "    try:\n",
    "        # 生成子集\n",
    "        result = GPF.createProduct(\"Subset\", params, product)\n",
    "        \n",
    "        # 检查是否生成结果\n",
    "        if result is None:\n",
    "            raise RuntimeError(\"子集裁剪未生成结果，请检查输入数据或裁剪区域。\")\n",
    "        \n",
    "        # 保存子集到文件\n",
    "        output_path = os.path.join(output_dir, output_name)\n",
    "        ProductIO.writeProduct(result, output_path, \"BEAM-DIMAP\")\n",
    "        \n",
    "        # 提示生成的文件\n",
    "        print(f\"子集裁剪完成，结果已保存到: {output_path}\")\n",
    "        \n",
    "        return result\n",
    "    except Exception as e:\n",
    "        print(\"子集裁剪失败:\", e)\n",
    "        raise\n",
    "\n",
    "# 定义裁剪区域的 WKT 格式\n",
    "geo_region = \"POLYGON ((98.696 31.112, 98.75 31.112, 98.75 31.06, 98.696 31.06, 98.696 31.112))\"\n",
    "\n",
    "# 创建子集\n",
    "subset_product = create_subset(coregistered_product, geo_region, \"S1A_GRDH_Orb_Stack_Subset.dim\")"
   ]
  },
  {
   "cell_type": "markdown",
   "metadata": {},
   "source": [
    "## 6. 偏移追踪"
   ]
  },
  {
   "cell_type": "code",
   "execution_count": null,
   "metadata": {},
   "outputs": [],
   "source": [
    "def offset_tracking(product, output_name):\n",
    "    \"\"\"\n",
    "    偏移追踪功能，基于用户提供的 SNAP 界面参数。\n",
    "    \"\"\"\n",
    "    params = HashMap()\n",
    "    \n",
    "    # 网格参数 (Output Grid)\n",
    "    params.put(\"gridAzimuthSpacingInPixels\", 14)      # 方位向网格间距 (像素)\n",
    "    params.put(\"gridRangeSpacingInPixels\", 14)        # 距离向网格间距 (像素)\n",
    "    params.put(\"gridAzimuthSpacingInMeters\", 140.0)   # 方位向网格间距 (米)\n",
    "    params.put(\"gridRangeSpacingInMeters\", 140.0)     # 距离向网格间距 (米)\n",
    "    params.put(\"gridAzimuthDimension\", 33)            # 方位向网格维度\n",
    "    params.put(\"gridRangeDimension\", 43)              # 距离向网格维度\n",
    "    params.put(\"totalGridPoints\", 1419)                # 总网格点数\n",
    "    \n",
    "    # 重采样方式 (Resampling Type)\n",
    "    params.put(\"resamplingType\", \"BICUBIC_INTERPOLATION\")  # 双三次插值\n",
    "    \n",
    "    # 注册参数 (Registration)\n",
    "    params.put(\"registrationWindowWidth\", '64')        # 注册窗口宽度\n",
    "    params.put(\"registrationWindowHeight\", '64')       # 注册窗口高度\n",
    "    params.put(\"registrationOversampling\", '16')        # 注册重采样倍数\n",
    "    params.put(\"crossCorrelationThreshold\", 0.1)      # 交叉相关阈值\n",
    "    params.put(\"averageBoxSize\", '5')                   # 平均窗口大小\n",
    "    params.put(\"maxVelocity\", 50.00)                     # 最大速度 (m/day)\n",
    "    params.put(\"radiusForHoleFilling\", 10)             # 填洞半径\n",
    "    \n",
    "    # 其他选项\n",
    "    params.put(\"spatialAverage\", True)                # 空间平均\n",
    "    params.put(\"fillHoles\", True)                     # 填充洞\n",
    "\n",
    "    # ROI Vector Mask (可选)\n",
    "    params.put(\"roiVectorMask\", \"\")  # 如果不需要矢量掩膜，保持为空\n",
    "\n",
    "    try:\n",
    "        print(\"开始偏移追踪...\")\n",
    "        \n",
    "        # 执行偏移追踪\n",
    "        result = GPF.createProduct(\"Offset-Tracking\", params, product)\n",
    "        \n",
    "        # 检查结果是否生成\n",
    "        if result is None:\n",
    "            raise RuntimeError(\"偏移追踪未生成结果，请检查输入数据或参数设置。\")\n",
    "        \n",
    "        # 保存偏移追踪结果\n",
    "        output_path = os.path.join(output_dir, output_name)\n",
    "        ProductIO.writeProduct(result, output_path, \"BEAM-DIMAP\")\n",
    "        \n",
    "        # 提示结果保存路径\n",
    "        print(f\"偏移追踪完成，结果已保存到: {output_path}\")\n",
    "        \n",
    "        return result\n",
    "    except Exception as e:\n",
    "        print(\"偏移追踪失败:\", e)\n",
    "        raise\n",
    "\n",
    "velocity_map = offset_tracking(subset_product, \"S1A_GRDH_Orb_Stack_Subset_velocity.dim\")"
   ]
  },
  {
   "cell_type": "markdown",
   "metadata": {},
   "source": [
    "## 7. 地形校正"
   ]
  },
  {
   "cell_type": "code",
   "execution_count": null,
   "metadata": {},
   "outputs": [],
   "source": [
    "def terrain_correction(product, output_name):\n",
    "    params = HashMap()\n",
    "    params.put(\"demName\", \"SRTM 3Sec\")\n",
    "    params.put(\"pixelSpacingInMeter\", 10.0)\n",
    "    result = GPF.createProduct(\"Terrain-Correction\", params, product)\n",
    "    output_path = os.path.join(output_dir, output_name)\n",
    "    ProductIO.writeProduct(result, output_path, \"BEAM-DIMAP\")\n",
    "    print(f\"地形校正完成: {output_path}\")\n",
    "    return result\n",
    "\n",
    "terrain_corrected_velocity_map = terrain_correction(velocity_map, \"terrain_corrected_velocity_map.dim\")"
   ]
  },
  {
   "cell_type": "markdown",
   "metadata": {},
   "source": [
    "## 8. 保存最终结果"
   ]
  },
  {
   "cell_type": "code",
   "execution_count": null,
   "metadata": {},
   "outputs": [],
   "source": [
    "ProductIO.writeProduct(velocity_map, final_output_file, \"BEAM-DIMAP\")\n",
    "print(f\"滑坡形变图已生成并保存到: {final_output_file}\")"
   ]
  }
 ],
 "metadata": {
  "kernelspec": {
   "display_name": "snap_env",
   "language": "python",
   "name": "python3"
  },
  "language_info": {
   "codemirror_mode": {
    "name": "ipython",
    "version": 3
   },
   "file_extension": ".py",
   "mimetype": "text/x-python",
   "name": "python",
   "nbconvert_exporter": "python",
   "pygments_lexer": "ipython3",
   "version": "3.6.13"
  }
 },
 "nbformat": 4,
 "nbformat_minor": 2
}
