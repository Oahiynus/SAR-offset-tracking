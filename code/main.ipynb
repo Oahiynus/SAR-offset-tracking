{
 "cells": [
  {
   "cell_type": "markdown",
   "metadata": {},
   "source": [
    "# 基于SAR偏移量追踪的滑坡形变提取"
   ]
  },
  {
   "cell_type": "markdown",
   "metadata": {},
   "source": [
    "## 0.添加SNAP的snappy模块路径"
   ]
  },
  {
   "cell_type": "code",
   "execution_count": 1,
   "metadata": {},
   "outputs": [
    {
     "name": "stdout",
     "output_type": "stream",
     "text": [
      "SNAPPY Path: E:/anaconda3/envs/snap_env/Lib/snappy\n"
     ]
    }
   ],
   "source": [
    "import sys\n",
    "\n",
    "# 添加 SNAP 的 snappy 模块路径\n",
    "snappy_path = \"E:/anaconda3/envs/snap_env/Lib/snappy\"\n",
    "if snappy_path not in sys.path:\n",
    "    sys.path.append(snappy_path)\n",
    "\n",
    "# 检查路径是否正确\n",
    "print(\"SNAPPY Path:\", snappy_path)"
   ]
  },
  {
   "cell_type": "markdown",
   "metadata": {},
   "source": [
    "## 1. 导入模块并设置文件路径"
   ]
  },
  {
   "cell_type": "code",
   "execution_count": 2,
   "metadata": {},
   "outputs": [
    {
     "name": "stdout",
     "output_type": "stream",
     "text": [
      "输出目录: F:/data/MSR/data/output_code\n"
     ]
    }
   ],
   "source": [
    "# 导入必要的模块\n",
    "from snappy import ProductIO, GPF\n",
    "from snappy import HashMap\n",
    "import os\n",
    "\n",
    "# 设置输入和输出路径\n",
    "# Sentinel-1 GRD 数据的输入路径\n",
    "input_file_1 = \"F:/data/MSR/data/original/S1A_IW_GRDH_1SDV_20181003T112511_20181003T112536_023971_029E46_1361.zip\"\n",
    "input_file_2 = \"F:/data/MSR/data/original/S1A_IW_GRDH_1SDV_20181015T112511_20181015T112536_024146_02A3FF_5D3E.zip\"\n",
    "\n",
    "# 输出文件夹路径\n",
    "output_dir = \"F:/data/MSR/data/output_code\"\n",
    "# 最终滑坡形变图的输出路径\n",
    "final_output_file = os.path.join(output_dir, \"landslide_deformation_map.dim\")\n",
    "\n",
    "# 确保输出目录存在\n",
    "if not os.path.exists(output_dir):\n",
    "    os.makedirs(output_dir)\n",
    "print(\"输出目录:\", output_dir)"
   ]
  },
  {
   "cell_type": "markdown",
   "metadata": {},
   "source": [
    "## 2. 加载输入数据"
   ]
  },
  {
   "cell_type": "code",
   "execution_count": 3,
   "metadata": {},
   "outputs": [
    {
     "name": "stdout",
     "output_type": "stream",
     "text": [
      "输入数据已加载:\n",
      "Product 1: F:/data/MSR/data/original/S1A_IW_GRDH_1SDV_20181003T112511_20181003T112536_023971_029E46_1361.zip\n",
      "Product 2: F:/data/MSR/data/original/S1A_IW_GRDH_1SDV_20181015T112511_20181015T112536_024146_02A3FF_5D3E.zip\n"
     ]
    }
   ],
   "source": [
    "# 读取输入数据\n",
    "product1 = ProductIO.readProduct(input_file_1)  # 加载第一个时间点的 GRD 产品\n",
    "product2 = ProductIO.readProduct(input_file_2)  # 加载第二个时间点的 GRD 产品\n",
    "\n",
    "print(\"输入数据已加载:\")\n",
    "print(\"Product 1:\", input_file_1)\n",
    "print(\"Product 2:\", input_file_2)"
   ]
  },
  {
   "cell_type": "markdown",
   "metadata": {},
   "source": [
    "## 3. 应用精轨数据文件"
   ]
  },
  {
   "cell_type": "code",
   "execution_count": 4,
   "metadata": {},
   "outputs": [
    {
     "name": "stdout",
     "output_type": "stream",
     "text": [
      "精轨数据应用完成: F:/data/MSR/data/output_code\\S1A_GRDH_20181003_Orb.dim\n",
      "精轨数据应用完成: F:/data/MSR/data/output_code\\S1A_GRDH_20181015_Orb.dim\n"
     ]
    }
   ],
   "source": [
    "def apply_orbit_file(product, output_name):\n",
    "    \"\"\"\n",
    "    对 Sentinel-1 GRD 产品应用精确轨道文件。\n",
    "    轨道文件提高影像的几何定位精度。\n",
    "    \"\"\"\n",
    "    params = HashMap()\n",
    "    params.put(\"Apply-Orbit-File\", True)  # 参数：启用精轨数据应用\n",
    "    result = GPF.createProduct(\"Apply-Orbit-File\", params, product)\n",
    "    output_path = os.path.join(output_dir, output_name)  # 设置输出路径\n",
    "    ProductIO.writeProduct(result, output_path, \"BEAM-DIMAP\")  # 保存结果\n",
    "    print(f\"精轨数据应用完成: {output_path}\")\n",
    "    return result\n",
    "\n",
    "# 分别对两幅影像应用精轨数据\n",
    "product1_orbit = apply_orbit_file(product1, \"S1A_GRDH_20181003_Orb.dim\")\n",
    "product2_orbit = apply_orbit_file(product2, \"S1A_GRDH_20181015_Orb.dim\")"
   ]
  },
  {
   "cell_type": "markdown",
   "metadata": {},
   "source": [
    "## 4. 图像配准"
   ]
  },
  {
   "cell_type": "code",
   "execution_count": 5,
   "metadata": {},
   "outputs": [
    {
     "name": "stdout",
     "output_type": "stream",
     "text": [
      "DEM辅助配准完成（使用 XCorr）: F:/data/MSR/data/output_code\\S1A_GRDH_Orb_Stack.dim\n"
     ]
    }
   ],
   "source": [
    "def dem_assisted_coregistration_with_xcorr(master, slave, output_name):\n",
    "    \"\"\"\n",
    "    使用 DEM-Assisted Coregistration with XCorr 进行影像配准。\n",
    "    配准影像使两幅影像对齐，并结合地形校正功能。\n",
    "    \"\"\"\n",
    "    params = HashMap()\n",
    "    params.put(\"demName\", \"SRTM 3Sec\")  # 使用 SRTM 3Sec DEM\n",
    "    params.put(\"resamplingType\", \"BILINEAR_INTERPOLATION\")  # 重采样方式：双线性插值\n",
    "    params.put(\"maskOutAreaWithoutElevation\", True)  # 遮蔽无 DEM 数据的区域\n",
    "    params.put(\"xcorr\", True)  # 启用交叉相关\n",
    "    result = GPF.createProduct(\"DEM-Assisted-Coregistration\", params, [slave, master])  # 执行配准\n",
    "    output_path = os.path.join(output_dir, output_name)  # 输出路径\n",
    "    ProductIO.writeProduct(result, output_path, \"BEAM-DIMAP\")  # 保存结果\n",
    "    print(f\"DEM辅助配准完成（使用 XCorr）: {output_path}\")\n",
    "    return result\n",
    "\n",
    "# 执行影像配准\n",
    "coregistered_product = dem_assisted_coregistration_with_xcorr(\n",
    "    product1_orbit, product2_orbit, \"S1A_GRDH_Orb_Stack.dim\"\n",
    ")"
   ]
  },
  {
   "cell_type": "markdown",
   "metadata": {},
   "source": [
    "## 5.裁剪创建子集影像"
   ]
  },
  {
   "cell_type": "code",
   "execution_count": 6,
   "metadata": {},
   "outputs": [
    {
     "name": "stdout",
     "output_type": "stream",
     "text": [
      "子集裁剪完成，结果已保存到: F:/data/MSR/data/output_code\\S1A_GRDH_Orb_Stack_Subset.dim\n"
     ]
    }
   ],
   "source": [
    "def create_subset(product, region, output_name):\n",
    "    \"\"\"\n",
    "    裁剪影像为指定的感兴趣区域。\n",
    "    \"\"\"\n",
    "    params = HashMap()\n",
    "    params.put(\"geoRegion\", region)  # 设置兴趣区域（WKT 格式）\n",
    "    params.put(\"copyMetadata\", True)  # 保留所有元数据\n",
    "    try:\n",
    "        result = GPF.createProduct(\"Subset\", params, product)  # 执行子集裁剪\n",
    "        if result is None:\n",
    "            raise RuntimeError(\"子集裁剪未生成结果，请检查输入数据或裁剪区域。\")\n",
    "        output_path = os.path.join(output_dir, output_name)\n",
    "        ProductIO.writeProduct(result, output_path, \"BEAM-DIMAP\")  # 保存结果\n",
    "        print(f\"子集裁剪完成，结果已保存到: {output_path}\")\n",
    "        return result\n",
    "    except Exception as e:\n",
    "        print(\"子集裁剪失败:\", e)\n",
    "        raise\n",
    "\n",
    "# 定义裁剪区域（WKT 格式）\n",
    "geo_region = \"POLYGON ((98.696 31.112, 98.75 31.112, 98.75 31.06, 98.696 31.06, 98.696 31.112))\"\n",
    "\n",
    "# 创建子集\n",
    "subset_product = create_subset(coregistered_product, geo_region, \"S1A_GRDH_Orb_Stack_Subset.dim\")"
   ]
  },
  {
   "cell_type": "markdown",
   "metadata": {},
   "source": [
    "## 6. 偏移量追踪"
   ]
  },
  {
   "cell_type": "code",
   "execution_count": 7,
   "metadata": {},
   "outputs": [
    {
     "name": "stdout",
     "output_type": "stream",
     "text": [
      "偏移追踪完成，结果已保存到: F:/data/MSR/data/output_code\\S1A_GRDH_Orb_Stack_Subset_velocity.dim\n"
     ]
    }
   ],
   "source": [
    "def offset_tracking(product, output_name):\n",
    "    \"\"\"\n",
    "    偏移追踪：估算两幅影像之间的地表运动。\n",
    "    \"\"\"\n",
    "    params = HashMap()\n",
    "    # 设置网格参数\n",
    "    params.put(\"gridAzimuthSpacingInPixels\", 14)  # 方位向网格间距\n",
    "    params.put(\"gridRangeSpacingInPixels\", 14)  # 距离向网格间距\n",
    "    params.put(\"resamplingType\", \"BICUBIC_INTERPOLATION\")  # 双三次插值\n",
    "    # 设置注册参数\n",
    "    params.put(\"registrationWindowWidth\", '64')  # 注册窗口宽度\n",
    "    params.put(\"registrationWindowHeight\", '64')  # 注册窗口高度\n",
    "    params.put(\"registrationOversampling\", '16')  # 注册重采样倍数\n",
    "    params.put(\"crossCorrelationThreshold\", 0.1)  # 交叉相关阈值\n",
    "    params.put(\"averageBoxSize\", '5')  # 平均窗口大小\n",
    "    params.put(\"maxVelocity\", 50.0)  # 最大速度 (m/day)\n",
    "    params.put(\"radiusForHoleFilling\", 10)  # 填洞半径\n",
    "    params.put(\"spatialAverage\", True)  # 空间平均\n",
    "    params.put(\"fillHoles\", True)  # 填充洞\n",
    "    try:\n",
    "        result = GPF.createProduct(\"Offset-Tracking\", params, product)\n",
    "        if result is None:\n",
    "            raise RuntimeError(\"偏移追踪未生成结果，请检查输入数据或参数设置。\")\n",
    "        output_path = os.path.join(output_dir, output_name)\n",
    "        ProductIO.writeProduct(result, output_path, \"BEAM-DIMAP\")  # 保存结果\n",
    "        print(f\"偏移追踪完成，结果已保存到: {output_path}\")\n",
    "        return result\n",
    "    except Exception as e:\n",
    "        print(\"偏移追踪失败:\", e)\n",
    "        raise\n",
    "\n",
    "# 执行偏移追踪\n",
    "velocity_map = offset_tracking(subset_product, \"S1A_GRDH_Orb_Stack_Subset_velocity.dim\")"
   ]
  },
  {
   "cell_type": "markdown",
   "metadata": {},
   "source": [
    "## 7. 地形校正"
   ]
  },
  {
   "cell_type": "code",
   "execution_count": 8,
   "metadata": {},
   "outputs": [
    {
     "name": "stdout",
     "output_type": "stream",
     "text": [
      "地形校正完成: F:/data/MSR/data/output_code\\terrain_corrected_velocity_map.dim\n"
     ]
    }
   ],
   "source": [
    "def terrain_correction(product, output_name):\n",
    "    \"\"\"\n",
    "    地形校正：对生成的速度场进行正射校正。\n",
    "    \"\"\"\n",
    "    params = HashMap()\n",
    "    params.put(\"demName\", \"SRTM 3Sec\")  # 使用 SRTM 3Sec DEM\n",
    "    params.put(\"pixelSpacingInMeter\", 10.0)  # 设置分辨率为 10 米\n",
    "    result = GPF.createProduct(\"Terrain-Correction\", params, product)  # 执行地形校正\n",
    "    output_path = os.path.join(output_dir, output_name)\n",
    "    ProductIO.writeProduct(result, output_path, \"BEAM-DIMAP\")  # 保存结果\n",
    "    print(f\"地形校正完成: {output_path}\")\n",
    "    return result\n",
    "\n",
    "# 执行地形校正\n",
    "terrain_corrected_velocity_map = terrain_correction(velocity_map, \"terrain_corrected_velocity_map.dim\")"
   ]
  },
  {
   "cell_type": "markdown",
   "metadata": {},
   "source": [
    "## 8. 保存最终结果"
   ]
  },
  {
   "cell_type": "code",
   "execution_count": 10,
   "metadata": {},
   "outputs": [
    {
     "name": "stdout",
     "output_type": "stream",
     "text": [
      "滑坡形变图已生成并保存到: F:/data/MSR/data/output_code\\landslide_deformation_map.dim\n"
     ]
    }
   ],
   "source": [
    "ProductIO.writeProduct(terrain_corrected_velocity_map, final_output_file, \"BEAM-DIMAP\")\n",
    "print(f\"滑坡形变图已生成并保存到: {final_output_file}\")"
   ]
  }
 ],
 "metadata": {
  "kernelspec": {
   "display_name": "snap_env",
   "language": "python",
   "name": "python3"
  },
  "language_info": {
   "codemirror_mode": {
    "name": "ipython",
    "version": 3
   },
   "file_extension": ".py",
   "mimetype": "text/x-python",
   "name": "python",
   "nbconvert_exporter": "python",
   "pygments_lexer": "ipython3",
   "version": "3.6.13"
  }
 },
 "nbformat": 4,
 "nbformat_minor": 2
}
